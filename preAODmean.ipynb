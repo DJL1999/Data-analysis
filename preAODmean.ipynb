{
 "cells": [
  {
   "cell_type": "code",
   "execution_count": 1,
   "id": "5f70f67e-e312-4ad9-acf2-9f639c41796e",
   "metadata": {},
   "outputs": [],
   "source": [
    "from osgeo import gdal\n",
    "import numpy as np\n",
    "import glob\n",
    "import os\n",
    "import re"
   ]
  },
  {
   "cell_type": "code",
   "execution_count": 3,
   "id": "518b4e54-5cdf-48d8-8c08-9a64b03fe50d",
   "metadata": {},
   "outputs": [],
   "source": [
    "def read_img(filename):\n",
    "        dataset = gdal.Open(filename)\n",
    "        im_width = dataset.RasterXSize #栅格矩阵的列数\n",
    "        im_height = dataset.RasterYSize #栅格矩阵的行数\n",
    "        im_geotrans = dataset.GetGeoTransform() #仿射矩阵\n",
    "        im_proj = dataset.GetProjection() #地图投影\n",
    "        im_data = dataset.ReadAsArray(0,0,im_width,im_height)\n",
    "        del dataset\n",
    "        return im_proj,im_geotrans,im_data\n",
    "\n",
    "def write_img(filename,im_proj,im_geotrans,im_data):\n",
    "        if \"int8\" in im_data.dtype.name:\n",
    "            datatype = gdal.GDT_Byte\n",
    "        if \"int16\" in im_data.dtype.name:\n",
    "            datatype = gdal.GDT_UInt16\n",
    "        else:\n",
    "            datatype = gdal.GDT_Float32\n",
    "\n",
    "        if len(im_data.shape) == 3:\n",
    "            im_bands, im_height, im_width = im_data.shape\n",
    "        else:\n",
    "            im_bands, (im_height, im_width) = 1, im_data.shape\n",
    "\n",
    "        driver = gdal.GetDriverByName(\"GTiff\")  # 数据类型必须有，因为要计算需要多大内存空间\n",
    "        dataset = driver.Create(filename, im_width, im_height, im_bands, datatype)\n",
    "\n",
    "        dataset.SetGeoTransform(im_geotrans)  # 写入仿射变换参数\n",
    "        dataset.SetProjection(im_proj)  # 写入投影\n",
    "\n",
    "        if im_bands == 1:\n",
    "            dataset.GetRasterBand(1).WriteArray(im_data)  # 写入数组数据\n",
    "        else:\n",
    "            for i in range(im_bands):\n",
    "                dataset.GetRasterBand(i + 1).WriteArray(im_data[i])\n",
    "        del dataset"
   ]
  },
  {
   "cell_type": "code",
   "execution_count": 4,
   "id": "b96923f3-053c-439d-a460-c85a5e8a42a0",
   "metadata": {},
   "outputs": [],
   "source": [
    "et_path  = 'F:\\\\SCI\\\\CESM\\\\'\n",
    "et_list = glob.glob(os.path.join(et_path, '*.tif'))"
   ]
  },
  {
   "cell_type": "code",
   "execution_count": 5,
   "id": "6b461d00-36ff-4409-aeb2-e025e14db06a",
   "metadata": {},
   "outputs": [
    {
     "name": "stderr",
     "output_type": "stream",
     "text": [
      "F:\\Anaconda3\\envs\\py377\\lib\\site-packages\\ipykernel_launcher.py:27: RuntimeWarning: Mean of empty slice\n",
      "F:\\Anaconda3\\envs\\py377\\lib\\site-packages\\ipykernel_launcher.py:35: RuntimeWarning: Mean of empty slice\n"
     ]
    }
   ],
   "source": [
    "for y_idx in range(1980, 2015):\n",
    "    for m_idx in range(1, 13):\n",
    "        for et_name in et_list:\n",
    "            # 获取文件名中日期信息\n",
    "            #name = re.findall(r'MOD16A2GF.A(\\d{7}).h28v06', path.basename(et_name))[0]\n",
    "            #date = datetime.datetime.strptime(name, '%Y%j')\n",
    "            #year, month, day = date.year, date.month, date.day\n",
    "            date = re.findall(r'....-..',et_name)\n",
    "            syear = date[0][0:4]\n",
    "            smonth = date[0][-2:]\n",
    "            year = int(date[0][0:4])\n",
    "            month = int(date[0][-2:])\n",
    "            if year == y_idx:\n",
    "                if month == m_idx:\n",
    "                    a1 = read_img(f\"F:\\\\SCI\\\\CESM\\\\CESM2.HIS.AODVIS.{syear}-{smonth}.tif\")[2]\n",
    "                    a1 = a1.astype(np.float32)\n",
    "                    a1[np.where(a1 <= -3.3e+38)]=np.nan\n",
    "                    # 同一年相同月份的影像存放一起并插入各景影像数据在各月份中所占权重\n",
    "                    # 根据所占月份时间长短确定权重（暂时设为1）\n",
    "                    if m_idx == 1:\n",
    "                        m_array = a1\n",
    "                    elif m_idx ==2:\n",
    "                        m_array = np.stack([m_array,a1],axis=2)\n",
    "                    else:\n",
    "                        m_array = np.insert(m_array,0,a1,axis=2)\n",
    "                    break\n",
    "    mean_array = np.nanmean(m_array,axis=2)\n",
    "    if y_idx == 1980:\n",
    "        y_array = mean_array\n",
    "    elif y_idx == 1981:\n",
    "        y_array = np.stack([y_array,mean_array],axis=2)\n",
    "    else:\n",
    "        y_array = np.insert(y_array,0,mean_array,axis=2)\n",
    "\n",
    "y_array = np.nanmean(y_array,axis=2)"
   ]
  },
  {
   "cell_type": "code",
   "execution_count": 6,
   "id": "4f5fe945-fa55-49e3-bb51-4f64b6c2bef4",
   "metadata": {},
   "outputs": [],
   "source": [
    "proj = read_img(\"F:\\\\SCI\\\\CESM\\\\CESM2.HIS.AODVIS.1980-01.tif\")[0]\n",
    "geotrans = read_img(\"F:\\\\SCI\\\\CESM\\\\CESM2.HIS.AODVIS.1980-01.tif\")[1]\n",
    "write_img(\"AODmean.tif\",proj,geotrans,y_array)"
   ]
  },
  {
   "cell_type": "code",
   "execution_count": null,
   "id": "1f88f7b0-4eee-49b3-9513-c10ebcca6a0d",
   "metadata": {},
   "outputs": [],
   "source": []
  }
 ],
 "metadata": {
  "kernelspec": {
   "display_name": "py377",
   "language": "python",
   "name": "py377"
  },
  "language_info": {
   "codemirror_mode": {
    "name": "ipython",
    "version": 3
   },
   "file_extension": ".py",
   "mimetype": "text/x-python",
   "name": "python",
   "nbconvert_exporter": "python",
   "pygments_lexer": "ipython3",
   "version": "3.7.12"
  }
 },
 "nbformat": 4,
 "nbformat_minor": 5
}

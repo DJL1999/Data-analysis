{
 "cells": [
  {
   "cell_type": "raw",
   "id": "86af68f0-db4a-4f39-acb3-ef6076657e94",
   "metadata": {},
   "source": [
    "tif 数据处理"
   ]
  },
  {
   "cell_type": "code",
   "execution_count": 2,
   "id": "11a6dc98-4abb-46c0-97e2-b746bc633f49",
   "metadata": {},
   "outputs": [],
   "source": [
    "from osgeo import gdal\n",
    "import numpy as np\n",
    "import glob\n",
    "import re"
   ]
  },
  {
   "cell_type": "code",
   "execution_count": 3,
   "id": "e8ee9772-d8bf-4534-9852-53b476c5b2f4",
   "metadata": {},
   "outputs": [],
   "source": [
    "def read_img(filename):\n",
    "        dataset = gdal.Open(filename)\n",
    "        im_width = dataset.RasterXSize #栅格矩阵的列数\n",
    "        im_height = dataset.RasterYSize #栅格矩阵的行数\n",
    "        im_geotrans = dataset.GetGeoTransform() #仿射矩阵\n",
    "        im_proj = dataset.GetProjection() #地图投影\n",
    "        im_data = dataset.ReadAsArray(0,0,im_width,im_height)\n",
    "        del dataset\n",
    "        return im_proj,im_geotrans,im_data"
   ]
  },
  {
   "cell_type": "code",
   "execution_count": 4,
   "id": "3adb2259-3b88-41f8-b09b-728e7da1b67c",
   "metadata": {},
   "outputs": [
    {
     "data": {
      "text/plain": [
       "('GEOGCS[\"WGS 84\",DATUM[\"WGS_1984\",SPHEROID[\"WGS 84\",6378137,298.257223563,AUTHORITY[\"EPSG\",\"7030\"]],AUTHORITY[\"EPSG\",\"6326\"]],PRIMEM[\"Greenwich\",0],UNIT[\"degree\",0.0174532925199433,AUTHORITY[\"EPSG\",\"9122\"]],AXIS[\"Latitude\",NORTH],AXIS[\"Longitude\",EAST],AUTHORITY[\"EPSG\",\"4326\"]]',\n",
       " (-179.375, 1.25, 0.0, 83.87434554973822, 0.0, -0.9424083769633508),\n",
       " array([[-3.4e+38, -3.4e+38, -3.4e+38, ..., -3.4e+38, -3.4e+38, -3.4e+38],\n",
       "        [-3.4e+38, -3.4e+38, -3.4e+38, ..., -3.4e+38, -3.4e+38, -3.4e+38],\n",
       "        [-3.4e+38, -3.4e+38, -3.4e+38, ..., -3.4e+38, -3.4e+38, -3.4e+38],\n",
       "        ...,\n",
       "        [-3.4e+38, -3.4e+38, -3.4e+38, ..., -3.4e+38, -3.4e+38, -3.4e+38],\n",
       "        [-3.4e+38, -3.4e+38, -3.4e+38, ..., -3.4e+38, -3.4e+38, -3.4e+38],\n",
       "        [-3.4e+38, -3.4e+38, -3.4e+38, ..., -3.4e+38, -3.4e+38, -3.4e+38]],\n",
       "       dtype=float32))"
      ]
     },
     "execution_count": 4,
     "metadata": {},
     "output_type": "execute_result"
    }
   ],
   "source": [
    "read_img(\"F:\\\\SCI\\\\CESM\\\\CESM2.HIS.AODVIS.1980-01.tif\")"
   ]
  },
  {
   "cell_type": "code",
   "execution_count": 5,
   "id": "b7509ce3-179c-48e8-90dd-721f82e5f9b2",
   "metadata": {},
   "outputs": [],
   "source": [
    "def write_img(filename,im_proj,im_geotrans,im_data):\n",
    "        if \"int8\" in im_data.dtype.name:\n",
    "            datatype = gdal.GDT_Byte\n",
    "        if \"int16\" in im_data.dtype.name:\n",
    "            datatype = gdal.GDT_UInt16\n",
    "        else:\n",
    "            datatype = gdal.GDT_Float32\n",
    "\n",
    "        if len(im_data.shape) == 3:\n",
    "            im_bands, im_height, im_width = im_data.shape\n",
    "        else:\n",
    "            im_bands, (im_height, im_width) = 1, im_data.shape\n",
    "\n",
    "        driver = gdal.GetDriverByName(\"GTiff\")  # 数据类型必须有，因为要计算需要多大内存空间\n",
    "        dataset = driver.Create(filename, im_width, im_height, im_bands, datatype)\n",
    "\n",
    "        dataset.SetGeoTransform(im_geotrans)  # 写入仿射变换参数\n",
    "        dataset.SetProjection(im_proj)  # 写入投影\n",
    "\n",
    "        if im_bands == 1:\n",
    "            dataset.GetRasterBand(1).WriteArray(im_data)  # 写入数组数据\n",
    "        else:\n",
    "            for i in range(im_bands):\n",
    "                dataset.GetRasterBand(i + 1).WriteArray(im_data[i])\n",
    "        del dataset"
   ]
  }
 ],
 "metadata": {
  "kernelspec": {
   "display_name": "py377",
   "language": "python",
   "name": "py377"
  },
  "language_info": {
   "codemirror_mode": {
    "name": "ipython",
    "version": 3
   },
   "file_extension": ".py",
   "mimetype": "text/x-python",
   "name": "python",
   "nbconvert_exporter": "python",
   "pygments_lexer": "ipython3",
   "version": "3.7.7"
  }
 },
 "nbformat": 4,
 "nbformat_minor": 5
}

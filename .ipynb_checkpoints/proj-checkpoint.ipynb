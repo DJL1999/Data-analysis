{
 "cells": [
  {
   "cell_type": "code",
   "execution_count": 19,
   "id": "c61ef4ee-f510-4152-abea-cca1bf3c5505",
   "metadata": {},
   "outputs": [],
   "source": [
    "from osgeo import gdal\n",
    "from osgeo import ogr\n",
    "from osgeo import osr\n",
    "import numpy as np\n",
    "import glob\n",
    "import os\n",
    "import re"
   ]
  },
  {
   "cell_type": "code",
   "execution_count": 13,
   "id": "3860e7f5-1473-4fb9-af95-652beb96a756",
   "metadata": {},
   "outputs": [],
   "source": [
    "def read_img(filename):\n",
    "        dataset = gdal.Open(filename)\n",
    "        im_width = dataset.RasterXSize #栅格矩阵的列数\n",
    "        im_height = dataset.RasterYSize #栅格矩阵的行数\n",
    "        im_geotrans = dataset.GetGeoTransform() #仿射矩阵\n",
    "        im_proj = dataset.GetProjection() #地图投影\n",
    "        im_data = dataset.ReadAsArray(0,0,im_width,im_height)\n",
    "        del dataset\n",
    "        return im_proj,im_geotrans,im_data\n",
    "\n",
    "def write_img(filename,im_proj,im_geotrans,im_data):\n",
    "        if \"int8\" in im_data.dtype.name:\n",
    "            datatype = gdal.GDT_Byte\n",
    "        if \"int16\" in im_data.dtype.name:\n",
    "            datatype = gdal.GDT_UInt16\n",
    "        else:\n",
    "            datatype = gdal.GDT_Float32\n",
    "\n",
    "        if len(im_data.shape) == 3:\n",
    "            im_bands, im_height, im_width = im_data.shape\n",
    "        else:\n",
    "            im_bands, (im_height, im_width) = 1, im_data.shape\n",
    "\n",
    "        driver = gdal.GetDriverByName(\"GTiff\")  # 数据类型必须有，因为要计算需要多大内存空间\n",
    "        dataset = driver.Create(filename, im_width, im_height, im_bands, datatype)\n",
    "\n",
    "        dataset.SetGeoTransform(im_geotrans)  # 写入仿射变换参数\n",
    "        dataset.SetProjection(im_proj)  # 写入投影\n",
    "\n",
    "        if im_bands == 1:\n",
    "            dataset.GetRasterBand(1).WriteArray(im_data)  # 写入数组数据\n",
    "        else:\n",
    "            for i in range(im_bands):\n",
    "                dataset.GetRasterBand(i + 1).WriteArray(im_data[i])\n",
    "        del dataset"
   ]
  },
  {
   "cell_type": "code",
   "execution_count": 14,
   "id": "cc851808-396f-4329-8615-9db0032cfcd0",
   "metadata": {},
   "outputs": [
    {
     "data": {
      "text/plain": [
       "'GEOGCS[\"WGS 84\",DATUM[\"WGS_1984\",SPHEROID[\"WGS 84\",6378137,298.257223563,AUTHORITY[\"EPSG\",\"7030\"]],AUTHORITY[\"EPSG\",\"6326\"]],PRIMEM[\"Greenwich\",0],UNIT[\"degree\",0.0174532925199433,AUTHORITY[\"EPSG\",\"9122\"]],AXIS[\"Latitude\",NORTH],AXIS[\"Longitude\",EAST],AUTHORITY[\"EPSG\",\"4326\"]]'"
      ]
     },
     "execution_count": 14,
     "metadata": {},
     "output_type": "execute_result"
    }
   ],
   "source": [
    "proj = read_img(\"F:\\\\SCI\\\\CESM\\\\CESM2.hist.AODT.2007-05.tif\")[0]\n",
    "geotrans = read_img(\"F:\\\\SCI\\\\CESM\\\\CESM2.hist.AODT.2007-05.tif\")[1]\n",
    "proj"
   ]
  },
  {
   "cell_type": "code",
   "execution_count": 15,
   "id": "79cf3f01-8a91-4245-870e-65527d85418a",
   "metadata": {},
   "outputs": [],
   "source": [
    "y_array = read_img(\"F:\\\\SCI\\\\MOD\\\\DBAOD550\\\\tif\\\\MYD.DB.AOD550.200301.tif\")[2]\n",
    "write_img(\"test.tif\",proj,geotrans,y_array)"
   ]
  },
  {
   "cell_type": "code",
   "execution_count": 16,
   "id": "cf10739a-cf49-4f0b-958a-c7306ab3efe7",
   "metadata": {},
   "outputs": [
    {
     "data": {
      "text/plain": [
       "'GEOGCS[\"unknown\",DATUM[\"Unknown_based_on_Clarke_1866_ellipsoid\",SPHEROID[\"Clarke 1866\",6378206.4,294.978698213898]],PRIMEM[\"Greenwich\",0],UNIT[\"degree\",0.0174532925199433,AUTHORITY[\"EPSG\",\"9122\"]],AXIS[\"Latitude\",NORTH],AXIS[\"Longitude\",EAST]]'"
      ]
     },
     "execution_count": 16,
     "metadata": {},
     "output_type": "execute_result"
    }
   ],
   "source": [
    "proj1 = read_img(\"F:\\\\SCI\\\\MOD\\\\DBAOD550\\\\tif\\\\MYD.DB.AOD550.200301.tif\")[0]\n",
    "proj1"
   ]
  },
  {
   "cell_type": "code",
   "execution_count": 20,
   "id": "68d0f33b-3a86-488f-bfa5-3e0d02427bd6",
   "metadata": {},
   "outputs": [
    {
     "data": {
      "text/plain": [
       "0"
      ]
     },
     "execution_count": 20,
     "metadata": {},
     "output_type": "execute_result"
    }
   ],
   "source": [
    "sr = osr.SpatialReference()\n",
    "sr.SetProjCS( 'UTM 17 (WGS84) in northern hemisphere.' )\n",
    "sr.SetWellKnownGeogCS( 'WGS84' )\n",
    "sr.SetUTM( 17, True )\n",
    "sr.IsGeographic()"
   ]
  },
  {
   "cell_type": "code",
   "execution_count": 21,
   "id": "fe52c354-cb16-485c-a05a-395c01573218",
   "metadata": {},
   "outputs": [
    {
     "ename": "AttributeError",
     "evalue": "'str' object has no attribute 'IsGeographic'",
     "output_type": "error",
     "traceback": [
      "\u001b[1;31m---------------------------------------------------------------------------\u001b[0m",
      "\u001b[1;31mAttributeError\u001b[0m                            Traceback (most recent call last)",
      "\u001b[1;32m~\\AppData\\Local\\Temp\\ipykernel_11244\\2165198818.py\u001b[0m in \u001b[0;36m<module>\u001b[1;34m\u001b[0m\n\u001b[1;32m----> 1\u001b[1;33m \u001b[0mproj\u001b[0m\u001b[1;33m.\u001b[0m\u001b[0mIsGeographic\u001b[0m\u001b[1;33m(\u001b[0m\u001b[1;33m)\u001b[0m\u001b[1;33m\u001b[0m\u001b[1;33m\u001b[0m\u001b[0m\n\u001b[0m",
      "\u001b[1;31mAttributeError\u001b[0m: 'str' object has no attribute 'IsGeographic'"
     ]
    }
   ],
   "source": [
    "proj.IsGeographic()"
   ]
  },
  {
   "cell_type": "code",
   "execution_count": null,
   "id": "8f8e8328-d1b9-4fb8-b897-2af8a753a6e5",
   "metadata": {},
   "outputs": [],
   "source": []
  }
 ],
 "metadata": {
  "kernelspec": {
   "display_name": "py377",
   "language": "python",
   "name": "py377"
  },
  "language_info": {
   "codemirror_mode": {
    "name": "ipython",
    "version": 3
   },
   "file_extension": ".py",
   "mimetype": "text/x-python",
   "name": "python",
   "nbconvert_exporter": "python",
   "pygments_lexer": "ipython3",
   "version": "3.7.7"
  }
 },
 "nbformat": 4,
 "nbformat_minor": 5
}
